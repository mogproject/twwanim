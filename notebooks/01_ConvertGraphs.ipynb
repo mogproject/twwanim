{
 "cells": [
  {
   "cell_type": "code",
   "execution_count": null,
   "id": "1d62bc83-f4b6-4246-be62-5f159f4d2f8f",
   "metadata": {},
   "outputs": [],
   "source": [
    "import json\n",
    "import networkx as nx\n",
    "from twwanim.readwrite import *"
   ]
  },
  {
   "cell_type": "code",
   "execution_count": null,
   "id": "62f544e6-9dd6-43ee-898f-e0eae8fe3bfc",
   "metadata": {},
   "outputs": [],
   "source": [
    "def load_graph(path):\n",
    "    return load_pace_2023(path, zero_indexed=False)\n",
    "\n",
    "def save_graph(path, G, pos):\n",
    "    for v, p in pos.items():\n",
    "        G.nodes[v]['pos'] = list(p)\n",
    "    with open(path, 'w') as f:\n",
    "        f.write(json.dumps(nx.node_link_data(G)))"
   ]
  },
  {
   "cell_type": "code",
   "execution_count": null,
   "id": "87dde48e-ee2c-4011-adb8-713736b3448f",
   "metadata": {},
   "outputs": [],
   "source": [
    "# consider and adjust layout\n",
    "input_path = '...'  # replace this accordingly\n",
    "output_path = '...'  # replace this accordingly\n",
    "\n",
    "G = load_graph(input_path)\n",
    "pos = nx.kamada_kawai_layout(G)\n",
    "nx.draw(G, pos, node_size=10, with_labels=True)"
   ]
  },
  {
   "cell_type": "code",
   "execution_count": null,
   "id": "07701219-fbe5-4eca-b8a4-151281b728fd",
   "metadata": {},
   "outputs": [],
   "source": [
    "save_graph(output_path, G, pos)"
   ]
  },
  {
   "cell_type": "code",
   "execution_count": null,
   "id": "e8dcb957-ccea-4bd2-8fc1-68efeca109fd",
   "metadata": {},
   "outputs": [],
   "source": []
  }
 ],
 "metadata": {
  "kernelspec": {
   "display_name": "Python 3 (ipykernel)",
   "language": "python",
   "name": "python3"
  },
  "language_info": {
   "codemirror_mode": {
    "name": "ipython",
    "version": 3
   },
   "file_extension": ".py",
   "mimetype": "text/x-python",
   "name": "python",
   "nbconvert_exporter": "python",
   "pygments_lexer": "ipython3",
   "version": "3.10.4"
  }
 },
 "nbformat": 4,
 "nbformat_minor": 5
}
